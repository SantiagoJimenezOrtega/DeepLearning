{
  "nbformat": 4,
  "nbformat_minor": 0,
  "metadata": {
    "colab": {
      "name": "feeling_on_twitter_ESJO_202101.ipynb",
      "provenance": [],
      "include_colab_link": true
    },
    "kernelspec": {
      "name": "python3",
      "display_name": "Python 3"
    },
    "language_info": {
      "name": "python"
    }
  },
  "cells": [
    {
      "cell_type": "markdown",
      "metadata": {
        "id": "view-in-github",
        "colab_type": "text"
      },
      "source": [
        "<a href=\"https://colab.research.google.com/github/SantiagoJimenezOrtega/DeepLearning/blob/main/feeling_on_twitter_ESJO_202101.ipynb\" target=\"_parent\"><img src=\"https://colab.research.google.com/assets/colab-badge.svg\" alt=\"Open In Colab\"/></a>"
      ]
    },
    {
      "cell_type": "markdown",
      "metadata": {
        "id": "ctENiaaWbq8A"
      },
      "source": [
        "#Importando las librerias"
      ]
    },
    {
      "cell_type": "code",
      "metadata": {
        "id": "LmwMhLy4btVB"
      },
      "source": [
        "import os\n",
        "import tweepy as tw\n",
        "import pandas as pd"
      ],
      "execution_count": 1,
      "outputs": []
    },
    {
      "cell_type": "markdown",
      "metadata": {
        "id": "TfhtG7Kmb2iK"
      },
      "source": [
        "#Configurar API de Twitter\n",
        "Las siguientes claves, se deben obtener Twitter Developers, en la sección de Projects & Apps --> nombre_proyecto --> Keys and Tokens"
      ]
    },
    {
      "cell_type": "code",
      "metadata": {
        "id": "AHnuKufrb3ZI"
      },
      "source": [
        "# Consumer Keys\n",
        "consumer_key = 'qYVHKbtDoqDpzRucIH5SczjQV'\n",
        "consumer_secret = 'RuaHL0nlFPIg0PkVYYeqZOHI9Ve8v2CbCcef6ET75aLyHJnxlL'\n",
        "\n",
        "# Authentication Tokens\n",
        "access_token = '1395168973088505858-45jbCcQEIwpVi5G918tUf3v0jhqqzq'\n",
        "access_token_secret = '8RvqkhdNboBUIiRP1Poby1hirCpyS5F1qa291vE6NpnLt'"
      ],
      "execution_count": 2,
      "outputs": []
    },
    {
      "cell_type": "code",
      "metadata": {
        "id": "_6BxjDRUBtOU"
      },
      "source": [
        "auth = tw.OAuthHandler(consumer_key, consumer_secret)\n",
        "auth.set_access_token(access_token, access_token_secret)"
      ],
      "execution_count": 3,
      "outputs": []
    },
    {
      "cell_type": "code",
      "metadata": {
        "id": "9tomuqROB8AZ"
      },
      "source": [
        "api = tw.API(auth, wait_on_rate_limit=True)"
      ],
      "execution_count": 4,
      "outputs": []
    },
    {
      "cell_type": "markdown",
      "metadata": {
        "id": "mMymb25JCD_A"
      },
      "source": [
        "#Realizar un Tweet"
      ]
    },
    {
      "cell_type": "code",
      "metadata": {
        "colab": {
          "base_uri": "https://localhost:8080/"
        },
        "id": "72SioQTwCJMz",
        "outputId": "1de398d5-b1bd-486b-fc46-3bf6d37e1158"
      },
      "source": [
        "api.update_status(\"#USTATUNJA @santotomastunja La IA se tomara el mundo\")"
      ],
      "execution_count": 5,
      "outputs": [
        {
          "output_type": "execute_result",
          "data": {
            "text/plain": [
              "Status(_api=<tweepy.api.API object at 0x7fe3603fc610>, _json={'created_at': 'Thu May 27 03:14:07 +0000 2021', 'id': 1397752951091843073, 'id_str': '1397752951091843073', 'text': '#USTATUNJA @santotomastunja La IA se tomara el mundo', 'truncated': False, 'entities': {'hashtags': [{'text': 'USTATUNJA', 'indices': [0, 10]}], 'symbols': [], 'user_mentions': [{'screen_name': 'santotomastunja', 'name': 'Universidad Santo Tomás - Seccional Tunja', 'id': 834119844, 'id_str': '834119844', 'indices': [11, 27]}], 'urls': []}, 'source': '<a href=\"https://help.twitter.com/en/using-twitter/how-to-tweet#source-labels\" rel=\"nofollow\">usta_test</a>', 'in_reply_to_status_id': None, 'in_reply_to_status_id_str': None, 'in_reply_to_user_id': None, 'in_reply_to_user_id_str': None, 'in_reply_to_screen_name': None, 'user': {'id': 1395168973088505858, 'id_str': '1395168973088505858', 'name': 'Fabian Danilo Rodriguez Ochoa', 'screen_name': 'FabianDaniloRo1', 'location': '', 'description': '', 'url': None, 'entities': {'description': {'urls': []}}, 'protected': False, 'followers_count': 0, 'friends_count': 1, 'listed_count': 0, 'created_at': 'Thu May 20 00:06:36 +0000 2021', 'favourites_count': 0, 'utc_offset': None, 'time_zone': None, 'geo_enabled': False, 'verified': False, 'statuses_count': 2, 'lang': None, 'contributors_enabled': False, 'is_translator': False, 'is_translation_enabled': False, 'profile_background_color': 'F5F8FA', 'profile_background_image_url': None, 'profile_background_image_url_https': None, 'profile_background_tile': False, 'profile_image_url': 'http://abs.twimg.com/sticky/default_profile_images/default_profile_normal.png', 'profile_image_url_https': 'https://abs.twimg.com/sticky/default_profile_images/default_profile_normal.png', 'profile_link_color': '1DA1F2', 'profile_sidebar_border_color': 'C0DEED', 'profile_sidebar_fill_color': 'DDEEF6', 'profile_text_color': '333333', 'profile_use_background_image': True, 'has_extended_profile': True, 'default_profile': True, 'default_profile_image': True, 'following': False, 'follow_request_sent': False, 'notifications': False, 'translator_type': 'none', 'withheld_in_countries': []}, 'geo': None, 'coordinates': None, 'place': None, 'contributors': None, 'is_quote_status': False, 'retweet_count': 0, 'favorite_count': 0, 'favorited': False, 'retweeted': False, 'lang': 'es'}, created_at=datetime.datetime(2021, 5, 27, 3, 14, 7), id=1397752951091843073, id_str='1397752951091843073', text='#USTATUNJA @santotomastunja La IA se tomara el mundo', truncated=False, entities={'hashtags': [{'text': 'USTATUNJA', 'indices': [0, 10]}], 'symbols': [], 'user_mentions': [{'screen_name': 'santotomastunja', 'name': 'Universidad Santo Tomás - Seccional Tunja', 'id': 834119844, 'id_str': '834119844', 'indices': [11, 27]}], 'urls': []}, source='usta_test', source_url='https://help.twitter.com/en/using-twitter/how-to-tweet#source-labels', in_reply_to_status_id=None, in_reply_to_status_id_str=None, in_reply_to_user_id=None, in_reply_to_user_id_str=None, in_reply_to_screen_name=None, author=User(_api=<tweepy.api.API object at 0x7fe3603fc610>, _json={'id': 1395168973088505858, 'id_str': '1395168973088505858', 'name': 'Fabian Danilo Rodriguez Ochoa', 'screen_name': 'FabianDaniloRo1', 'location': '', 'description': '', 'url': None, 'entities': {'description': {'urls': []}}, 'protected': False, 'followers_count': 0, 'friends_count': 1, 'listed_count': 0, 'created_at': 'Thu May 20 00:06:36 +0000 2021', 'favourites_count': 0, 'utc_offset': None, 'time_zone': None, 'geo_enabled': False, 'verified': False, 'statuses_count': 2, 'lang': None, 'contributors_enabled': False, 'is_translator': False, 'is_translation_enabled': False, 'profile_background_color': 'F5F8FA', 'profile_background_image_url': None, 'profile_background_image_url_https': None, 'profile_background_tile': False, 'profile_image_url': 'http://abs.twimg.com/sticky/default_profile_images/default_profile_normal.png', 'profile_image_url_https': 'https://abs.twimg.com/sticky/default_profile_images/default_profile_normal.png', 'profile_link_color': '1DA1F2', 'profile_sidebar_border_color': 'C0DEED', 'profile_sidebar_fill_color': 'DDEEF6', 'profile_text_color': '333333', 'profile_use_background_image': True, 'has_extended_profile': True, 'default_profile': True, 'default_profile_image': True, 'following': False, 'follow_request_sent': False, 'notifications': False, 'translator_type': 'none', 'withheld_in_countries': []}, id=1395168973088505858, id_str='1395168973088505858', name='Fabian Danilo Rodriguez Ochoa', screen_name='FabianDaniloRo1', location='', description='', url=None, entities={'description': {'urls': []}}, protected=False, followers_count=0, friends_count=1, listed_count=0, created_at=datetime.datetime(2021, 5, 20, 0, 6, 36), favourites_count=0, utc_offset=None, time_zone=None, geo_enabled=False, verified=False, statuses_count=2, lang=None, contributors_enabled=False, is_translator=False, is_translation_enabled=False, profile_background_color='F5F8FA', profile_background_image_url=None, profile_background_image_url_https=None, profile_background_tile=False, profile_image_url='http://abs.twimg.com/sticky/default_profile_images/default_profile_normal.png', profile_image_url_https='https://abs.twimg.com/sticky/default_profile_images/default_profile_normal.png', profile_link_color='1DA1F2', profile_sidebar_border_color='C0DEED', profile_sidebar_fill_color='DDEEF6', profile_text_color='333333', profile_use_background_image=True, has_extended_profile=True, default_profile=True, default_profile_image=True, following=False, follow_request_sent=False, notifications=False, translator_type='none', withheld_in_countries=[]), user=User(_api=<tweepy.api.API object at 0x7fe3603fc610>, _json={'id': 1395168973088505858, 'id_str': '1395168973088505858', 'name': 'Fabian Danilo Rodriguez Ochoa', 'screen_name': 'FabianDaniloRo1', 'location': '', 'description': '', 'url': None, 'entities': {'description': {'urls': []}}, 'protected': False, 'followers_count': 0, 'friends_count': 1, 'listed_count': 0, 'created_at': 'Thu May 20 00:06:36 +0000 2021', 'favourites_count': 0, 'utc_offset': None, 'time_zone': None, 'geo_enabled': False, 'verified': False, 'statuses_count': 2, 'lang': None, 'contributors_enabled': False, 'is_translator': False, 'is_translation_enabled': False, 'profile_background_color': 'F5F8FA', 'profile_background_image_url': None, 'profile_background_image_url_https': None, 'profile_background_tile': False, 'profile_image_url': 'http://abs.twimg.com/sticky/default_profile_images/default_profile_normal.png', 'profile_image_url_https': 'https://abs.twimg.com/sticky/default_profile_images/default_profile_normal.png', 'profile_link_color': '1DA1F2', 'profile_sidebar_border_color': 'C0DEED', 'profile_sidebar_fill_color': 'DDEEF6', 'profile_text_color': '333333', 'profile_use_background_image': True, 'has_extended_profile': True, 'default_profile': True, 'default_profile_image': True, 'following': False, 'follow_request_sent': False, 'notifications': False, 'translator_type': 'none', 'withheld_in_countries': []}, id=1395168973088505858, id_str='1395168973088505858', name='Fabian Danilo Rodriguez Ochoa', screen_name='FabianDaniloRo1', location='', description='', url=None, entities={'description': {'urls': []}}, protected=False, followers_count=0, friends_count=1, listed_count=0, created_at=datetime.datetime(2021, 5, 20, 0, 6, 36), favourites_count=0, utc_offset=None, time_zone=None, geo_enabled=False, verified=False, statuses_count=2, lang=None, contributors_enabled=False, is_translator=False, is_translation_enabled=False, profile_background_color='F5F8FA', profile_background_image_url=None, profile_background_image_url_https=None, profile_background_tile=False, profile_image_url='http://abs.twimg.com/sticky/default_profile_images/default_profile_normal.png', profile_image_url_https='https://abs.twimg.com/sticky/default_profile_images/default_profile_normal.png', profile_link_color='1DA1F2', profile_sidebar_border_color='C0DEED', profile_sidebar_fill_color='DDEEF6', profile_text_color='333333', profile_use_background_image=True, has_extended_profile=True, default_profile=True, default_profile_image=True, following=False, follow_request_sent=False, notifications=False, translator_type='none', withheld_in_countries=[]), geo=None, coordinates=None, place=None, contributors=None, is_quote_status=False, retweet_count=0, favorite_count=0, favorited=False, retweeted=False, lang='es')"
            ]
          },
          "metadata": {
            "tags": []
          },
          "execution_count": 5
        }
      ]
    },
    {
      "cell_type": "markdown",
      "metadata": {
        "id": "NSAE__VWCP7h"
      },
      "source": [
        "#Obtener data de Twitter"
      ]
    },
    {
      "cell_type": "code",
      "metadata": {
        "id": "0chPk8L2CSLv"
      },
      "source": [
        "search_words = '#ParoNacional26M'\n",
        "data_since = '2020-01-01'"
      ],
      "execution_count": 19,
      "outputs": []
    },
    {
      "cell_type": "code",
      "metadata": {
        "id": "3Gj2VokONxOv",
        "colab": {
          "base_uri": "https://localhost:8080/",
          "height": 36
        },
        "outputId": "856b4d70-81ad-4daa-d815-536ce736d93b"
      },
      "source": [
        "search = search_words + '-filter:retweets'\n",
        "search"
      ],
      "execution_count": 20,
      "outputs": [
        {
          "output_type": "execute_result",
          "data": {
            "application/vnd.google.colaboratory.intrinsic+json": {
              "type": "string"
            },
            "text/plain": [
              "'#ParoNacional26M-filter:retweets'"
            ]
          },
          "metadata": {
            "tags": []
          },
          "execution_count": 20
        }
      ]
    },
    {
      "cell_type": "code",
      "metadata": {
        "id": "48SgKJ_kNzwz"
      },
      "source": [
        "tweets = tw.Cursor(api.search, search, lang='es', since=data_since).items(10000)\n",
        "#[tweet.text for tweet in tweets]"
      ],
      "execution_count": 21,
      "outputs": []
    },
    {
      "cell_type": "markdown",
      "metadata": {
        "id": "M_N4KOJMOp59"
      },
      "source": [
        "#Conversión en dataframe"
      ]
    },
    {
      "cell_type": "code",
      "metadata": {
        "id": "4JJN5Tc5Or2q"
      },
      "source": [
        "data_frame = [[tweet.user.screen_name, tweet.user.location,tweet.text] for tweet in tweets]"
      ],
      "execution_count": 22,
      "outputs": []
    },
    {
      "cell_type": "code",
      "metadata": {
        "id": "IACTGjwiPBfe"
      },
      "source": [
        "tw_dataframe = pd.DataFrame(data= data_frame , columns=[\"user\",\"location\",\"text\"])"
      ],
      "execution_count": 23,
      "outputs": []
    },
    {
      "cell_type": "code",
      "metadata": {
        "colab": {
          "base_uri": "https://localhost:8080/",
          "height": 399
        },
        "id": "VL0z5zaMPFsF",
        "outputId": "bbaffe35-c291-414b-db95-f4f3f39fafdf"
      },
      "source": [
        "tw_dataframe"
      ],
      "execution_count": 24,
      "outputs": [
        {
          "output_type": "execute_result",
          "data": {
            "text/html": [
              "<div>\n",
              "<style scoped>\n",
              "    .dataframe tbody tr th:only-of-type {\n",
              "        vertical-align: middle;\n",
              "    }\n",
              "\n",
              "    .dataframe tbody tr th {\n",
              "        vertical-align: top;\n",
              "    }\n",
              "\n",
              "    .dataframe thead th {\n",
              "        text-align: right;\n",
              "    }\n",
              "</style>\n",
              "<table border=\"1\" class=\"dataframe\">\n",
              "  <thead>\n",
              "    <tr style=\"text-align: right;\">\n",
              "      <th></th>\n",
              "      <th>user</th>\n",
              "      <th>location</th>\n",
              "      <th>text</th>\n",
              "    </tr>\n",
              "  </thead>\n",
              "  <tbody>\n",
              "    <tr>\n",
              "      <th>0</th>\n",
              "      <td>MitterrandMoni</td>\n",
              "      <td>DICTADURA COLOMBIANA</td>\n",
              "      <td>#PrimeraLineaEs LIBERTAD DE #Colombia \\n#Graci...</td>\n",
              "    </tr>\n",
              "    <tr>\n",
              "      <th>1</th>\n",
              "      <td>BaneHacktivista</td>\n",
              "      <td>Los Angeles, CA</td>\n",
              "      <td>¿Señores de la @PoliciaColombia y @Diego_Molan...</td>\n",
              "    </tr>\n",
              "    <tr>\n",
              "      <th>2</th>\n",
              "      <td>PgarciaS4</td>\n",
              "      <td></td>\n",
              "      <td>Hasta cuándo? Todavía se duda de la violación ...</td>\n",
              "    </tr>\n",
              "    <tr>\n",
              "      <th>3</th>\n",
              "      <td>oscarperezmora</td>\n",
              "      <td>Bogotá, DC, Colombia</td>\n",
              "      <td>@WRadioColombia Nadie les cree, hijueputas!!!!...</td>\n",
              "    </tr>\n",
              "    <tr>\n",
              "      <th>4</th>\n",
              "      <td>Alejoptb</td>\n",
              "      <td></td>\n",
              "      <td>va por todos los caídos, por Dilan, por Lucas ...</td>\n",
              "    </tr>\n",
              "    <tr>\n",
              "      <th>...</th>\n",
              "      <td>...</td>\n",
              "      <td>...</td>\n",
              "      <td>...</td>\n",
              "    </tr>\n",
              "    <tr>\n",
              "      <th>6269</th>\n",
              "      <td>LeviathanSoy</td>\n",
              "      <td>Madre Corrupción</td>\n",
              "      <td>#ParoNacional22M #ParoNacional23M #ParoNaciona...</td>\n",
              "    </tr>\n",
              "    <tr>\n",
              "      <th>6270</th>\n",
              "      <td>fsalasparra</td>\n",
              "      <td></td>\n",
              "      <td>No fue un alivió , fue un atraco 😡\\nLos bancos...</td>\n",
              "    </tr>\n",
              "    <tr>\n",
              "      <th>6271</th>\n",
              "      <td>ROUMMER</td>\n",
              "      <td>Bogota - Colombia</td>\n",
              "      <td>@NoticiasCaracol se dan cuenta que su amarilli...</td>\n",
              "    </tr>\n",
              "    <tr>\n",
              "      <th>6272</th>\n",
              "      <td>HENRYIBAEZORTI1</td>\n",
              "      <td></td>\n",
              "      <td>@jcuestanovoa @IvanDuque @CIDH @petrogustavo @...</td>\n",
              "    </tr>\n",
              "    <tr>\n",
              "      <th>6273</th>\n",
              "      <td>MileenaaneeliM</td>\n",
              "      <td></td>\n",
              "      <td>#ParoNacional26M y #ParoNacional28M #ElParoNOP...</td>\n",
              "    </tr>\n",
              "  </tbody>\n",
              "</table>\n",
              "<p>6274 rows × 3 columns</p>\n",
              "</div>"
            ],
            "text/plain": [
              "                 user  ...                                               text\n",
              "0      MitterrandMoni  ...  #PrimeraLineaEs LIBERTAD DE #Colombia \\n#Graci...\n",
              "1     BaneHacktivista  ...  ¿Señores de la @PoliciaColombia y @Diego_Molan...\n",
              "2           PgarciaS4  ...  Hasta cuándo? Todavía se duda de la violación ...\n",
              "3      oscarperezmora  ...  @WRadioColombia Nadie les cree, hijueputas!!!!...\n",
              "4            Alejoptb  ...  va por todos los caídos, por Dilan, por Lucas ...\n",
              "...               ...  ...                                                ...\n",
              "6269     LeviathanSoy  ...  #ParoNacional22M #ParoNacional23M #ParoNaciona...\n",
              "6270      fsalasparra  ...  No fue un alivió , fue un atraco 😡\\nLos bancos...\n",
              "6271          ROUMMER  ...  @NoticiasCaracol se dan cuenta que su amarilli...\n",
              "6272  HENRYIBAEZORTI1  ...  @jcuestanovoa @IvanDuque @CIDH @petrogustavo @...\n",
              "6273   MileenaaneeliM  ...  #ParoNacional26M y #ParoNacional28M #ElParoNOP...\n",
              "\n",
              "[6274 rows x 3 columns]"
            ]
          },
          "metadata": {
            "tags": []
          },
          "execution_count": 24
        }
      ]
    },
    {
      "cell_type": "markdown",
      "metadata": {
        "id": "aQkrJ1ySPI8x"
      },
      "source": [
        "#Guardamos los datos a un CSV"
      ]
    },
    {
      "cell_type": "code",
      "metadata": {
        "colab": {
          "base_uri": "https://localhost:8080/"
        },
        "id": "xtdldBuCPMQA",
        "outputId": "df0e9cf7-4bce-45fa-ebb2-9e74a5c8462f"
      },
      "source": [
        "from google.colab import drive\n",
        "drive.mount('/content/drive')"
      ],
      "execution_count": 25,
      "outputs": [
        {
          "output_type": "stream",
          "text": [
            "Drive already mounted at /content/drive; to attempt to forcibly remount, call drive.mount(\"/content/drive\", force_remount=True).\n"
          ],
          "name": "stdout"
        }
      ]
    },
    {
      "cell_type": "code",
      "metadata": {
        "id": "lLhkcmEtQfDF"
      },
      "source": [
        "tw_dataframe.to_csv('/content/drive/MyDrive/Deep Learning 2do corte/AI/Paro_Nacional_2021', index=False, encoding='utf-8')"
      ],
      "execution_count": 26,
      "outputs": []
    }
  ]
}