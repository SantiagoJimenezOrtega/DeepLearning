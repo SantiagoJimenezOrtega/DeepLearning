{
  "nbformat": 4,
  "nbformat_minor": 0,
  "metadata": {
    "colab": {
      "name": "P1T1_PYTHON_BASIC_ESJO.ipynb",
      "provenance": [],
      "authorship_tag": "ABX9TyNvqhkgiGyWADlm+tBK+yGH",
      "include_colab_link": true
    },
    "kernelspec": {
      "display_name": "Python 3",
      "name": "python3"
    }
  },
  "cells": [
    {
      "cell_type": "markdown",
      "metadata": {
        "id": "view-in-github",
        "colab_type": "text"
      },
      "source": [
        "<a href=\"https://colab.research.google.com/github/SantiagoJimenezOrtega/DeepLearning/blob/main/P1T1_PYTHON_BASIC_ESJO.ipynb\" target=\"_parent\"><img src=\"https://colab.research.google.com/assets/colab-badge.svg\" alt=\"Open In Colab\"/></a>"
      ]
    },
    {
      "cell_type": "code",
      "metadata": {
        "id": "PmBk0Zv7dPgm"
      },
      "source": [
        ""
      ],
      "execution_count": null,
      "outputs": []
    },
    {
      "cell_type": "code",
      "metadata": {
        "id": "zNIPawj25gLK"
      },
      "source": [
        ""
      ],
      "execution_count": null,
      "outputs": []
    },
    {
      "cell_type": "markdown",
      "metadata": {
        "id": "iTu-pX-y6ffM"
      },
      "source": [
        "##Mayor de 3 numeros\r\n"
      ]
    },
    {
      "cell_type": "code",
      "metadata": {
        "colab": {
          "base_uri": "https://localhost:8080/"
        },
        "id": "FcT4AEUJ6jh3",
        "outputId": "b32ddacd-fc53-415b-a9ac-64071969f8d0"
      },
      "source": [
        "num1,num2,num3 = input(\"Ingrese los tres numeros separados por una coma: \").split(\",\")\r\n",
        "print(\"El numero mayor de los ingresados es: \"+ str(max(num1,num2,num3)))"
      ],
      "execution_count": null,
      "outputs": [
        {
          "output_type": "stream",
          "text": [
            "Ingrese los tres numeros separados por una coma: 6,7,2\n",
            "El numero mayor de los ingresados es: 7\n"
          ],
          "name": "stdout"
        }
      ]
    },
    {
      "cell_type": "markdown",
      "metadata": {
        "id": "aMS9YnJv7sHh"
      },
      "source": [
        "##Suma de N numeros ingresados\r\n"
      ]
    },
    {
      "cell_type": "code",
      "metadata": {
        "colab": {
          "base_uri": "https://localhost:8080/"
        },
        "id": "_hn5sqvC741F",
        "outputId": "f0038f91-223c-4037-b1ce-0d61cf9bfae4"
      },
      "source": [
        "suma=0\r\n",
        "for i in range(0, int(input(\"Ingrese la cantidad de numeros que desea sumar: \"))):\r\n",
        "  suma+=int(input(\"ingrese el valor del numero \"+ str(i+1) + \": \"))\r\n",
        "print(\"El total de la suma es igual a \"+ str(suma))\r\n"
      ],
      "execution_count": null,
      "outputs": [
        {
          "output_type": "stream",
          "text": [
            "Ingrese la cantidad de numeros que desea sumar: 3\n",
            "ingrese el valor del numero 1: 5\n",
            "ingrese el valor del numero 2: 5\n",
            "ingrese el valor del numero 3: 2345\n",
            "El total de la suma es igual a 2355\n"
          ],
          "name": "stdout"
        }
      ]
    },
    {
      "cell_type": "markdown",
      "metadata": {
        "id": "yAxHpqnPDc_s"
      },
      "source": [
        "##Imprimir numeros pares entre dos numeros\r\n"
      ]
    },
    {
      "cell_type": "code",
      "metadata": {
        "colab": {
          "base_uri": "https://localhost:8080/"
        },
        "id": "wbmk2bcXF30x",
        "outputId": "555dd078-9d0a-4110-9b8e-3c2cdc8437d6"
      },
      "source": [
        "for i in range(int(input(\"Numero menor: \")),int(input(\"Numero mayor: \"))):\r\n",
        "  if ( (i%2)==0 ): print(\"El numero par : \" + str(i) )"
      ],
      "execution_count": null,
      "outputs": [
        {
          "output_type": "stream",
          "text": [
            "Numero menor: 4\n",
            "Numero mayor: 50\n",
            "El numero par : 4\n",
            "El numero par : 6\n",
            "El numero par : 8\n",
            "El numero par : 10\n",
            "El numero par : 12\n",
            "El numero par : 14\n",
            "El numero par : 16\n",
            "El numero par : 18\n",
            "El numero par : 20\n",
            "El numero par : 22\n",
            "El numero par : 24\n",
            "El numero par : 26\n",
            "El numero par : 28\n",
            "El numero par : 30\n",
            "El numero par : 32\n",
            "El numero par : 34\n",
            "El numero par : 36\n",
            "El numero par : 38\n",
            "El numero par : 40\n",
            "El numero par : 42\n",
            "El numero par : 44\n",
            "El numero par : 46\n",
            "El numero par : 48\n"
          ],
          "name": "stdout"
        }
      ]
    },
    {
      "cell_type": "markdown",
      "metadata": {
        "id": "0yB8TPUAJVmj"
      },
      "source": [
        "##Imprimir listas concatenadas\r\n"
      ]
    },
    {
      "cell_type": "code",
      "metadata": {
        "colab": {
          "base_uri": "https://localhost:8080/"
        },
        "id": "vGfm3vCsJYZI",
        "outputId": "0d5e7209-c615-4926-9b11-5d37f975d47b"
      },
      "source": [
        "listaBase= [1,2,3,4,5,6,7,8,9,10,11,12]\r\n",
        "listaReverse = [12,11,10,9,8,7,6,5,4,3,2,1]\r\n",
        "print(listaBase+listaReverse)"
      ],
      "execution_count": null,
      "outputs": [
        {
          "output_type": "stream",
          "text": [
            "[1, 2, 3, 4, 5, 6, 7, 8, 9, 10, 11, 12, 12, 11, 10, 9, 8, 7, 6, 5, 4, 3, 2, 1]\n"
          ],
          "name": "stdout"
        }
      ]
    },
    {
      "cell_type": "markdown",
      "metadata": {
        "id": "picx1J5PY0jO"
      },
      "source": [
        ""
      ]
    },
    {
      "cell_type": "markdown",
      "metadata": {
        "id": "MMUYTMp1bt8D"
      },
      "source": [
        "##10 Numeros random entre 1 y 100"
      ]
    },
    {
      "cell_type": "code",
      "metadata": {
        "colab": {
          "base_uri": "https://localhost:8080/"
        },
        "id": "Yp9oAoNIb2Fl",
        "outputId": "e4c2b5fb-dc70-4fe9-c70b-e015a71a20f8"
      },
      "source": [
        "import random\r\n",
        "for i in range(10):print(random.randrange(100))"
      ],
      "execution_count": null,
      "outputs": [
        {
          "output_type": "stream",
          "text": [
            "81\n",
            "75\n",
            "22\n",
            "8\n",
            "86\n",
            "27\n",
            "43\n",
            "92\n",
            "74\n",
            "18\n"
          ],
          "name": "stdout"
        }
      ]
    },
    {
      "cell_type": "markdown",
      "metadata": {
        "id": "N_T0aXglcXCh"
      },
      "source": [
        "##Ultimo ejercicio Poblacion\r\n"
      ]
    },
    {
      "cell_type": "code",
      "metadata": {
        "colab": {
          "base_uri": "https://localhost:8080/"
        },
        "id": "-SePWoBCcaQO",
        "outputId": "0d8a2ca7-80a2-4837-e146-f55021d3bfb1"
      },
      "source": [
        "import random\r\n",
        "poblacion = random.randrange(1000,50000)\r\n",
        "edades=[]\r\n",
        "cont=0\r\n",
        "for i in range(0,poblacion):\r\n",
        "  edades.append(random.randrange(100))\r\n",
        "\r\n",
        "for i in range(0, poblacion):\r\n",
        "  if((edades[i]) >= 18):\r\n",
        "    cont += 1\r\n",
        "print(\"La Poblacion total es de \"+ str(poblacion) +\", el porcentaje de gente mayor de 18 años es de \" + str((cont*100)/poblacion)+ \" %, y el porcentaje de personas menores de 18 años es de \"+str(100-((cont*100)/poblacion)))"
      ],
      "execution_count": null,
      "outputs": [
        {
          "output_type": "stream",
          "text": [
            "La Poblacion total es de 22709, el porcentaje de gente mayor de 18 años es de 82.30657448588666 %, y el porcentaje de personas menores de 18 años es de 17.693425514113343\n"
          ],
          "name": "stdout"
        }
      ]
    }
  ]
}